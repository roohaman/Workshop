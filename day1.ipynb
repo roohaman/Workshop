{
 "cells": [
  {
   "cell_type": "code",
   "execution_count": 5,
   "metadata": {},
   "outputs": [],
   "source": [
    "import pandas\n",
    "import csv"
   ]
  },
  {
   "cell_type": "code",
   "execution_count": 15,
   "metadata": {},
   "outputs": [],
   "source": [
    "import pandas as pd"
   ]
  },
  {
   "cell_type": "code",
   "execution_count": 18,
   "metadata": {},
   "outputs": [
    {
     "name": "stdout",
     "output_type": "stream",
     "text": [
      " Volume in drive C is OS\n",
      " Volume Serial Number is D806-E007\n",
      "\n",
      " Directory of C:\\Users\\admin\n",
      "\n",
      "11/24/2018  07:01 PM    <DIR>          .\n",
      "11/24/2018  07:01 PM    <DIR>          ..\n",
      "11/24/2018  02:32 PM    <DIR>          .anaconda\n",
      "07/18/2018  08:42 PM    <DIR>          .android\n",
      "11/24/2018  07:04 PM    <DIR>          .conda\n",
      "11/24/2018  06:45 PM                43 .condarc\n",
      "03/02/2018  10:52 PM    <DIR>          .dotnet\n",
      "11/24/2018  05:41 PM    <DIR>          .idlerc\n",
      "11/24/2018  06:47 PM    <DIR>          .ipynb_checkpoints\n",
      "11/24/2018  06:47 PM    <DIR>          .ipython\n",
      "11/24/2018  06:49 PM    <DIR>          .jupyter\n",
      "11/24/2018  06:49 PM    <DIR>          .matplotlib\n",
      "05/15/2018  12:31 AM    <DIR>          .nuget\n",
      "11/07/2018  01:11 AM    <DIR>          .PyCharmCE2018.2\n",
      "11/24/2018  06:45 PM    <DIR>          .spyder-py3\n",
      "05/11/2018  08:08 PM    <DIR>          .templateengine\n",
      "07/11/2018  03:02 AM    <DIR>          .VirtualBox\n",
      "11/16/2018  01:01 AM    <DIR>          3D Objects\n",
      "11/24/2018  06:48 PM    <DIR>          Anaconda3\n",
      "11/16/2018  01:01 AM    <DIR>          Contacts\n",
      "11/24/2018  03:10 PM    <DIR>          Desktop\n",
      "11/16/2018  01:01 AM    <DIR>          Documents\n",
      "11/24/2018  06:47 PM    <DIR>          Downloads\n",
      "11/16/2018  01:01 AM    <DIR>          Favorites\n",
      "03/09/2018  01:03 AM            52,435 genymotion-log.zip\n",
      "11/24/2018  06:06 PM    <DIR>          iCloudDrive\n",
      "11/16/2018  01:01 AM    <DIR>          Links\n",
      "11/16/2018  01:01 AM    <DIR>          Music\n",
      "02/16/2018  03:33 PM    <DIR>          OneDrive\n",
      "11/16/2018  01:01 AM    <DIR>          Pictures\n",
      "05/11/2018  08:07 PM    <DIR>          Projects\n",
      "11/24/2018  05:06 PM    <DIR>          PycharmProjects\n",
      "11/25/2017  11:57 AM    <DIR>          Roaming\n",
      "11/16/2018  01:01 AM    <DIR>          Saved Games\n",
      "11/16/2018  01:01 AM    <DIR>          Searches\n",
      "03/03/2018  12:22 AM    <DIR>          source\n",
      "11/24/2018  07:01 PM             8,994 Untitled.ipynb\n",
      "11/16/2018  01:01 AM    <DIR>          Videos\n",
      "06/10/2018  02:18 AM    <DIR>          VirtualBox VMs\n",
      "               3 File(s)         61,472 bytes\n",
      "              36 Dir(s)  121,294,954,496 bytes free\n"
     ]
    }
   ],
   "source": [
    "ls"
   ]
  },
  {
   "cell_type": "code",
   "execution_count": 43,
   "metadata": {},
   "outputs": [],
   "source": [
    "df = pd.read_csv(\"physician_rx.csv\") "
   ]
  },
  {
   "cell_type": "code",
   "execution_count": 45,
   "metadata": {},
   "outputs": [
    {
     "data": {
      "text/html": [
       "<div>\n",
       "<style scoped>\n",
       "    .dataframe tbody tr th:only-of-type {\n",
       "        vertical-align: middle;\n",
       "    }\n",
       "\n",
       "    .dataframe tbody tr th {\n",
       "        vertical-align: top;\n",
       "    }\n",
       "\n",
       "    .dataframe thead th {\n",
       "        text-align: right;\n",
       "    }\n",
       "</style>\n",
       "<table border=\"1\" class=\"dataframe\">\n",
       "  <thead>\n",
       "    <tr style=\"text-align: right;\">\n",
       "      <th></th>\n",
       "      <th>PHYSICIAN</th>\n",
       "      <th>CroMax_RX</th>\n",
       "      <th>GlycoMax_RX</th>\n",
       "      <th>AllergyMax_RX</th>\n",
       "      <th>FevMax_RX</th>\n",
       "      <th>ColdMax_RX</th>\n",
       "    </tr>\n",
       "  </thead>\n",
       "  <tbody>\n",
       "    <tr>\n",
       "      <th>95</th>\n",
       "      <td>AP1957774</td>\n",
       "      <td>390.0</td>\n",
       "      <td>15</td>\n",
       "      <td>0</td>\n",
       "      <td>16</td>\n",
       "      <td>36</td>\n",
       "    </tr>\n",
       "    <tr>\n",
       "      <th>96</th>\n",
       "      <td>AP1273998</td>\n",
       "      <td>480.0</td>\n",
       "      <td>630</td>\n",
       "      <td>0</td>\n",
       "      <td>0</td>\n",
       "      <td>0</td>\n",
       "    </tr>\n",
       "    <tr>\n",
       "      <th>97</th>\n",
       "      <td>AP1228990</td>\n",
       "      <td>0.0</td>\n",
       "      <td>0</td>\n",
       "      <td>0</td>\n",
       "      <td>0</td>\n",
       "      <td>180</td>\n",
       "    </tr>\n",
       "    <tr>\n",
       "      <th>98</th>\n",
       "      <td>AP1881803</td>\n",
       "      <td>0.0</td>\n",
       "      <td>10</td>\n",
       "      <td>0</td>\n",
       "      <td>0</td>\n",
       "      <td>0</td>\n",
       "    </tr>\n",
       "    <tr>\n",
       "      <th>99</th>\n",
       "      <td>AP4772804</td>\n",
       "      <td>10.0</td>\n",
       "      <td>0</td>\n",
       "      <td>0</td>\n",
       "      <td>0</td>\n",
       "      <td>0</td>\n",
       "    </tr>\n",
       "  </tbody>\n",
       "</table>\n",
       "</div>"
      ],
      "text/plain": [
       "    PHYSICIAN  CroMax_RX  GlycoMax_RX  AllergyMax_RX  FevMax_RX  ColdMax_RX\n",
       "95  AP1957774      390.0           15              0         16          36\n",
       "96  AP1273998      480.0          630              0          0           0\n",
       "97  AP1228990        0.0            0              0          0         180\n",
       "98  AP1881803        0.0           10              0          0           0\n",
       "99  AP4772804       10.0            0              0          0           0"
      ]
     },
     "execution_count": 45,
     "metadata": {},
     "output_type": "execute_result"
    }
   ],
   "source": [
    "df.tail()\n"
   ]
  },
  {
   "cell_type": "code",
   "execution_count": 25,
   "metadata": {},
   "outputs": [],
   "source": [
    "df[\"bucket\"]=\"B1\""
   ]
  },
  {
   "cell_type": "code",
   "execution_count": 36,
   "metadata": {},
   "outputs": [
    {
     "ename": "SyntaxError",
     "evalue": "invalid syntax (<ipython-input-36-ad2857cd9b95>, line 1)",
     "output_type": "error",
     "traceback": [
      "\u001b[1;36m  File \u001b[1;32m\"<ipython-input-36-ad2857cd9b95>\"\u001b[1;36m, line \u001b[1;32m1\u001b[0m\n\u001b[1;33m    df[df.loc[(df[\"CroMax_RX\"]>50) & (df[\"GlycoMax_RX\"]>50 ),\"bucket\"] = \"B2\"]\u001b[0m\n\u001b[1;37m                                                                       ^\u001b[0m\n\u001b[1;31mSyntaxError\u001b[0m\u001b[1;31m:\u001b[0m invalid syntax\n"
     ]
    }
   ],
   "source": [
    "df[df.loc[(df[\"CroMax_RX\"]>50) & (df[\"GlycoMax_RX\"]>50 ),\"bucket\"] = \"B2\"]"
   ]
  },
  {
   "cell_type": "code",
   "execution_count": 42,
   "metadata": {},
   "outputs": [
    {
     "ename": "AttributeError",
     "evalue": "'str' object has no attribute 'head'",
     "output_type": "error",
     "traceback": [
      "\u001b[1;31m---------------------------------------------------------------------------\u001b[0m",
      "\u001b[1;31mAttributeError\u001b[0m                            Traceback (most recent call last)",
      "\u001b[1;32m<ipython-input-42-c42a15b2c7cf>\u001b[0m in \u001b[0;36m<module>\u001b[1;34m()\u001b[0m\n\u001b[1;32m----> 1\u001b[1;33m \u001b[0mdf\u001b[0m\u001b[1;33m.\u001b[0m\u001b[0mhead\u001b[0m\u001b[1;33m(\u001b[0m\u001b[1;33m)\u001b[0m\u001b[1;33m\u001b[0m\u001b[0m\n\u001b[0m",
      "\u001b[1;31mAttributeError\u001b[0m: 'str' object has no attribute 'head'"
     ]
    }
   ],
   "source": [
    "df.head()"
   ]
  },
  {
   "cell_type": "code",
   "execution_count": null,
   "metadata": {},
   "outputs": [],
   "source": []
  }
 ],
 "metadata": {
  "kernelspec": {
   "display_name": "Python 3",
   "language": "python",
   "name": "python3"
  },
  "language_info": {
   "codemirror_mode": {
    "name": "ipython",
    "version": 3
   },
   "file_extension": ".py",
   "mimetype": "text/x-python",
   "name": "python",
   "nbconvert_exporter": "python",
   "pygments_lexer": "ipython3",
   "version": "3.7.0"
  }
 },
 "nbformat": 4,
 "nbformat_minor": 2
}
